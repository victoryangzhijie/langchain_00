{
 "cells": [
  {
   "cell_type": "code",
   "execution_count": 1,
   "id": "2698126b-cd90-400b-b515-0d86be1254db",
   "metadata": {},
   "outputs": [
    {
     "name": "stdout",
     "output_type": "stream",
     "text": [
      "[{'url': 'https://www.weatherapi.com/', 'content': \"{'location': {'name': 'San Francisco', 'region': 'California', 'country': 'United States of America', 'lat': 37.78, 'lon': -122.42, 'tz_id': 'America/Los_Angeles', 'localtime_epoch': 1717332377, 'localtime': '2024-06-02 5:46'}, 'current': {'last_updated_epoch': 1717332300, 'last_updated': '2024-06-02 05:45', 'temp_c': 11.0, 'temp_f': 51.8, 'is_day': 0, 'condition': {'text': 'Mist', 'icon': '//cdn.weatherapi.com/weather/64x64/night/143.png', 'code': 1030}, 'wind_mph': 13.6, 'wind_kph': 22.0, 'wind_degree': 330, 'wind_dir': 'NNW', 'pressure_mb': 1015.0, 'pressure_in': 29.98, 'precip_mm': 0.02, 'precip_in': 0.0, 'humidity': 100, 'cloud': 100, 'feelslike_c': 8.7, 'feelslike_f': 47.6, 'windchill_c': 9.9, 'windchill_f': 49.7, 'heatindex_c': 11.9, 'heatindex_f': 53.5, 'dewpoint_c': 10.3, 'dewpoint_f': 50.5, 'vis_km': 1.2, 'vis_miles': 0.0, 'uv': 1.0, 'gust_mph': 17.2, 'gust_kph': 27.6}}\"}, {'url': 'https://weatherspark.com/h/m/557/2024/2/Historical-Weather-in-February-2024-in-San-Francisco-California-United-States', 'content': 'San Francisco Temperature History February 2024\\nHourly Temperature in February 2024 in San Francisco\\nCompare San Francisco to another city:\\nCloud Cover in February 2024 in San Francisco\\nDaily Precipitation in February 2024 in San Francisco\\nObserved Weather in February 2024 in San Francisco\\nHours of Daylight and Twilight in February 2024 in San Francisco\\nSunrise & Sunset with Twilight in February 2024 in San Francisco\\nSolar Elevation and Azimuth in February 2024 in San Francisco\\nMoon Rise, Set & Phases in February 2024 in San Francisco\\nHumidity Comfort Levels in February 2024 in San Francisco\\nWind Speed in February 2024 in San Francisco\\nHourly Wind Speed in February 2024 in San Francisco\\nHourly Wind Direction in 2024 in San Francisco\\nAtmospheric Pressure in February 2024 in San Francisco\\nData Sources\\n 53.1°F\\nPrecipitation\\nNo Report\\nWind\\n8.1 mph\\nCloud Cover\\nOvercast\\n4,200 ft\\nRaw: KSFO 150316Z 11007KT While having the tremendous advantages of temporal and spatial completeness, these reconstructions: (1) are based on computer models that may have model-based errors, (2) are coarsely sampled on a 50 km grid and are therefore unable to reconstruct the local variations of many microclimates, and (3) have particular difficulty with the weather in some coastal areas, especially small islands.\\n We further caution that our travel scores are only as good as the data that underpin them, that weather conditions at any given location and time are unpredictable and variable, and that the definition of the scores reflects a particular set of preferences that may not agree with those of any particular reader.\\n See all nearby weather stations\\nLatest Report — 7:16 PM\\nThu, Feb 15, 2024\\xa0\\xa0\\xa0\\xa013 min ago\\xa0\\xa0\\xa0\\xa0UTC 03:16\\nCall Sign KSFO\\nTemp.\\n'}]\n"
     ]
    }
   ],
   "source": [
    "from langchain_community.tools.tavily_search import TavilySearchResults\n",
    "\n",
    "search = TavilySearchResults(max_results=2)\n",
    "search_results = search.invoke(\"what is the weather in SF\")\n",
    "print(search_results)\n",
    "# If we want, we can create other tools.\n",
    "# Once we have all the tools we want, we can put them in a list that we will reference later.\n",
    "tools = [search]"
   ]
  },
  {
   "cell_type": "code",
   "execution_count": 2,
   "id": "64eb5c3d-49fd-4b6c-9cbc-ef1de935f8ae",
   "metadata": {},
   "outputs": [],
   "source": [
    "import getpass\n",
    "import os\n",
    "\n",
    "\n",
    "from langchain_openai import ChatOpenAI\n",
    "\n",
    "model = ChatOpenAI(model=\"gpt-3.5-turbo\")"
   ]
  },
  {
   "cell_type": "code",
   "execution_count": 3,
   "id": "5ddc73d9-1d99-4ca7-be43-103bba122de3",
   "metadata": {},
   "outputs": [
    {
     "data": {
      "text/plain": [
       "'Hello! How can I assist you today?'"
      ]
     },
     "execution_count": 3,
     "metadata": {},
     "output_type": "execute_result"
    }
   ],
   "source": [
    "from langchain_core.messages import HumanMessage\n",
    "\n",
    "response = model.invoke([HumanMessage(content=\"hi!\")])\n",
    "response.content"
   ]
  },
  {
   "cell_type": "code",
   "execution_count": 4,
   "id": "09457089-6663-4faf-b767-969701dffb1b",
   "metadata": {},
   "outputs": [],
   "source": [
    "model_with_tools = model.bind_tools(tools)"
   ]
  },
  {
   "cell_type": "code",
   "execution_count": 5,
   "id": "e7c3dfac-2c02-4837-8cb2-dbb5c9c92da8",
   "metadata": {},
   "outputs": [
    {
     "name": "stdout",
     "output_type": "stream",
     "text": [
      "ContentString: Hello! How can I assist you today?\n",
      "ToolCalls: []\n"
     ]
    }
   ],
   "source": [
    "response = model_with_tools.invoke([HumanMessage(content=\"Hi!\")])\n",
    "\n",
    "print(f\"ContentString: {response.content}\")\n",
    "print(f\"ToolCalls: {response.tool_calls}\")"
   ]
  },
  {
   "cell_type": "code",
   "execution_count": 6,
   "id": "7d8d8244-43c7-42ff-864c-bdc75bfdcd44",
   "metadata": {},
   "outputs": [
    {
     "name": "stdout",
     "output_type": "stream",
     "text": [
      "ContentString: \n",
      "ToolCalls: [{'name': 'tavily_search_results_json', 'args': {'query': 'weather in San Francisco'}, 'id': 'call_ReDu1hr6XhDTttUHRDzZFD3q'}]\n"
     ]
    }
   ],
   "source": [
    "response = model_with_tools.invoke([HumanMessage(content=\"What's the weather in SF?\")])\n",
    "\n",
    "print(f\"ContentString: {response.content}\")\n",
    "print(f\"ToolCalls: {response.tool_calls}\")"
   ]
  },
  {
   "cell_type": "code",
   "execution_count": 7,
   "id": "3dfd3b37-466d-4b30-81a8-d49bceefe351",
   "metadata": {},
   "outputs": [],
   "source": [
    "from langgraph.prebuilt import create_react_agent\n",
    "\n",
    "agent_executor = create_react_agent(model, tools)"
   ]
  },
  {
   "cell_type": "code",
   "execution_count": 8,
   "id": "4a08c068-ab6d-4d2b-a700-2bf2f0ea7fab",
   "metadata": {},
   "outputs": [
    {
     "data": {
      "text/plain": [
       "[HumanMessage(content='hi!', id='fcea2e47-37a3-47b0-8de2-82c4f96c86f1'),\n",
       " AIMessage(content='Hello! How can I assist you today?', response_metadata={'token_usage': {'completion_tokens': 10, 'prompt_tokens': 83, 'total_tokens': 93}, 'model_name': 'gpt-3.5-turbo', 'system_fingerprint': None, 'finish_reason': 'stop', 'logprobs': None}, id='run-61363497-7294-40c7-8e15-c58284c99287-0', usage_metadata={'input_tokens': 83, 'output_tokens': 10, 'total_tokens': 93})]"
      ]
     },
     "execution_count": 8,
     "metadata": {},
     "output_type": "execute_result"
    }
   ],
   "source": [
    "response = agent_executor.invoke({\"messages\": [HumanMessage(content=\"hi!\")]})\n",
    "\n",
    "response[\"messages\"]"
   ]
  },
  {
   "cell_type": "code",
   "execution_count": 9,
   "id": "1f63d003-1b03-4edd-884f-291e0e8f8450",
   "metadata": {},
   "outputs": [
    {
     "data": {
      "text/plain": [
       "[HumanMessage(content='whats the weather in sf?', id='fc208ad2-8cc8-4119-ab55-984116553feb'),\n",
       " AIMessage(content='', additional_kwargs={'tool_calls': [{'id': 'call_lp27HmmLIt61WDjuIK2xsBlG', 'function': {'arguments': '{\"query\":\"weather in San Francisco\"}', 'name': 'tavily_search_results_json'}, 'type': 'function'}]}, response_metadata={'token_usage': {'completion_tokens': 21, 'prompt_tokens': 88, 'total_tokens': 109}, 'model_name': 'gpt-3.5-turbo', 'system_fingerprint': None, 'finish_reason': 'tool_calls', 'logprobs': None}, id='run-0fd25f70-0ce1-4e32-9828-7bb8a2cc3edf-0', tool_calls=[{'name': 'tavily_search_results_json', 'args': {'query': 'weather in San Francisco'}, 'id': 'call_lp27HmmLIt61WDjuIK2xsBlG'}], usage_metadata={'input_tokens': 88, 'output_tokens': 21, 'total_tokens': 109}),\n",
       " ToolMessage(content='[{\"url\": \"https://www.weatherapi.com/\", \"content\": \"{\\'location\\': {\\'name\\': \\'San Francisco\\', \\'region\\': \\'California\\', \\'country\\': \\'United States of America\\', \\'lat\\': 37.78, \\'lon\\': -122.42, \\'tz_id\\': \\'America/Los_Angeles\\', \\'localtime_epoch\\': 1717335934, \\'localtime\\': \\'2024-06-02 6:45\\'}, \\'current\\': {\\'last_updated_epoch\\': 1717335000, \\'last_updated\\': \\'2024-06-02 06:30\\', \\'temp_c\\': 11.0, \\'temp_f\\': 51.8, \\'is_day\\': 1, \\'condition\\': {\\'text\\': \\'Mist\\', \\'icon\\': \\'//cdn.weatherapi.com/weather/64x64/day/143.png\\', \\'code\\': 1030}, \\'wind_mph\\': 15.0, \\'wind_kph\\': 24.1, \\'wind_degree\\': 330, \\'wind_dir\\': \\'NNW\\', \\'pressure_mb\\': 1015.0, \\'pressure_in\\': 29.98, \\'precip_mm\\': 0.02, \\'precip_in\\': 0.0, \\'humidity\\': 100, \\'cloud\\': 100, \\'feelslike_c\\': 8.9, \\'feelslike_f\\': 47.9, \\'windchill_c\\': 10.2, \\'windchill_f\\': 50.4, \\'heatindex_c\\': 11.9, \\'heatindex_f\\': 53.5, \\'dewpoint_c\\': 10.2, \\'dewpoint_f\\': 50.3, \\'vis_km\\': 1.2, \\'vis_miles\\': 0.0, \\'uv\\': 3.0, \\'gust_mph\\': 15.3, \\'gust_kph\\': 24.7}}\"}, {\"url\": \"https://www.wunderground.com/hourly/us/ca/san-francisco/94108/date/2024-06-02\", \"content\": \"San Francisco Weather Forecasts. Weather Underground provides local & long-range weather forecasts, weatherreports, maps & tropical weather conditions for the San Francisco area. ... Sunday 06/02 ...\"}]', name='tavily_search_results_json', id='c212184e-55cc-4adc-96a3-9885fd09dc9f', tool_call_id='call_lp27HmmLIt61WDjuIK2xsBlG'),\n",
       " AIMessage(content='The current weather in San Francisco is misty with a temperature of 51.8°F (11.0°C). The wind is blowing at 24.1 km/h from the NNW direction. The humidity is at 100%, and the visibility is 1.2 km.', response_metadata={'token_usage': {'completion_tokens': 59, 'prompt_tokens': 605, 'total_tokens': 664}, 'model_name': 'gpt-3.5-turbo', 'system_fingerprint': None, 'finish_reason': 'stop', 'logprobs': None}, id='run-08f22add-45e7-402e-86ac-ffdbce7e4f81-0', usage_metadata={'input_tokens': 605, 'output_tokens': 59, 'total_tokens': 664})]"
      ]
     },
     "execution_count": 9,
     "metadata": {},
     "output_type": "execute_result"
    }
   ],
   "source": [
    "response = agent_executor.invoke(\n",
    "    {\"messages\": [HumanMessage(content=\"whats the weather in sf?\")]}\n",
    ")\n",
    "response[\"messages\"]"
   ]
  },
  {
   "cell_type": "code",
   "execution_count": 10,
   "id": "64cd707b-5212-4aee-8510-c4097da1cd56",
   "metadata": {},
   "outputs": [
    {
     "name": "stdout",
     "output_type": "stream",
     "text": [
      "{'agent': {'messages': [AIMessage(content='', additional_kwargs={'tool_calls': [{'id': 'call_OrPzcfq0Tf9hpUBLJdBtZFmX', 'function': {'arguments': '{\"query\":\"weather in San Francisco\"}', 'name': 'tavily_search_results_json'}, 'type': 'function'}]}, response_metadata={'token_usage': {'completion_tokens': 21, 'prompt_tokens': 88, 'total_tokens': 109}, 'model_name': 'gpt-3.5-turbo', 'system_fingerprint': None, 'finish_reason': 'tool_calls', 'logprobs': None}, id='run-930c9265-6f32-41a9-b883-3a091f38440b-0', tool_calls=[{'name': 'tavily_search_results_json', 'args': {'query': 'weather in San Francisco'}, 'id': 'call_OrPzcfq0Tf9hpUBLJdBtZFmX'}], usage_metadata={'input_tokens': 88, 'output_tokens': 21, 'total_tokens': 109})]}}\n",
      "----\n",
      "{'tools': {'messages': [ToolMessage(content='[{\"url\": \"https://www.weatherapi.com/\", \"content\": \"{\\'location\\': {\\'name\\': \\'San Francisco\\', \\'region\\': \\'California\\', \\'country\\': \\'United States of America\\', \\'lat\\': 37.78, \\'lon\\': -122.42, \\'tz_id\\': \\'America/Los_Angeles\\', \\'localtime_epoch\\': 1717335934, \\'localtime\\': \\'2024-06-02 6:45\\'}, \\'current\\': {\\'last_updated_epoch\\': 1717335000, \\'last_updated\\': \\'2024-06-02 06:30\\', \\'temp_c\\': 11.0, \\'temp_f\\': 51.8, \\'is_day\\': 1, \\'condition\\': {\\'text\\': \\'Mist\\', \\'icon\\': \\'//cdn.weatherapi.com/weather/64x64/day/143.png\\', \\'code\\': 1030}, \\'wind_mph\\': 15.0, \\'wind_kph\\': 24.1, \\'wind_degree\\': 330, \\'wind_dir\\': \\'NNW\\', \\'pressure_mb\\': 1015.0, \\'pressure_in\\': 29.98, \\'precip_mm\\': 0.02, \\'precip_in\\': 0.0, \\'humidity\\': 100, \\'cloud\\': 100, \\'feelslike_c\\': 8.9, \\'feelslike_f\\': 47.9, \\'windchill_c\\': 10.2, \\'windchill_f\\': 50.4, \\'heatindex_c\\': 11.9, \\'heatindex_f\\': 53.5, \\'dewpoint_c\\': 10.2, \\'dewpoint_f\\': 50.3, \\'vis_km\\': 1.2, \\'vis_miles\\': 0.0, \\'uv\\': 3.0, \\'gust_mph\\': 15.3, \\'gust_kph\\': 24.7}}\"}, {\"url\": \"https://www.wunderground.com/hourly/us/ca/san-francisco/94108/date/2024-06-02\", \"content\": \"San Francisco Weather Forecasts. Weather Underground provides local & long-range weather forecasts, weatherreports, maps & tropical weather conditions for the San Francisco area. ... Sunday 06/02 ...\"}]', name='tavily_search_results_json', tool_call_id='call_OrPzcfq0Tf9hpUBLJdBtZFmX')]}}\n",
      "----\n",
      "{'agent': {'messages': [AIMessage(content='The current weather in San Francisco is as follows:\\n- Temperature: 51.8°F (11.0°C)\\n- Condition: Mist\\n- Wind: 15.0 mph (24.1 kph) from NNW\\n- Humidity: 100%\\n- Cloud Cover: 100%\\n- Visibility: 0.0 miles\\n- UV Index: 3.0\\n\\nFor more detailed information, you can visit [Weather API](https://www.weatherapi.com/) or [Weather Underground](https://www.wunderground.com/hourly/us/ca/san-francisco/94108/date/2024-06-02).', response_metadata={'token_usage': {'completion_tokens': 134, 'prompt_tokens': 605, 'total_tokens': 739}, 'model_name': 'gpt-3.5-turbo', 'system_fingerprint': None, 'finish_reason': 'stop', 'logprobs': None}, id='run-c6d2376f-35f1-49ce-a88a-620f8ca402d0-0', usage_metadata={'input_tokens': 605, 'output_tokens': 134, 'total_tokens': 739})]}}\n",
      "----\n"
     ]
    }
   ],
   "source": [
    "for chunk in agent_executor.stream(\n",
    "    {\"messages\": [HumanMessage(content=\"whats the weather in sf?\")]}\n",
    "):\n",
    "    print(chunk)\n",
    "    print(\"----\")"
   ]
  },
  {
   "cell_type": "code",
   "execution_count": 11,
   "id": "f8f1b764-9689-4f2f-9873-d94bd1f3392d",
   "metadata": {},
   "outputs": [
    {
     "name": "stderr",
     "output_type": "stream",
     "text": [
      "/Users/victoryang/Desktop/ai_00/langchain_00/venv/lib/python3.11/site-packages/langchain_core/_api/beta_decorator.py:87: LangChainBetaWarning: This API is in beta and may change in the future.\n",
      "  warn_beta(\n"
     ]
    },
    {
     "name": "stdout",
     "output_type": "stream",
     "text": [
      "--\n",
      "Starting tool: tavily_search_results_json with inputs: {'query': 'weather in San Francisco'}\n",
      "Done tool: tavily_search_results_json\n",
      "Tool output was: [{'url': 'https://www.weatherapi.com/', 'content': \"{'location': {'name': 'San Francisco', 'region': 'California', 'country': 'United States of America', 'lat': 37.78, 'lon': -122.42, 'tz_id': 'America/Los_Angeles', 'localtime_epoch': 1717335934, 'localtime': '2024-06-02 6:45'}, 'current': {'last_updated_epoch': 1717335000, 'last_updated': '2024-06-02 06:30', 'temp_c': 11.0, 'temp_f': 51.8, 'is_day': 1, 'condition': {'text': 'Mist', 'icon': '//cdn.weatherapi.com/weather/64x64/day/143.png', 'code': 1030}, 'wind_mph': 15.0, 'wind_kph': 24.1, 'wind_degree': 330, 'wind_dir': 'NNW', 'pressure_mb': 1015.0, 'pressure_in': 29.98, 'precip_mm': 0.02, 'precip_in': 0.0, 'humidity': 100, 'cloud': 100, 'feelslike_c': 8.9, 'feelslike_f': 47.9, 'windchill_c': 10.2, 'windchill_f': 50.4, 'heatindex_c': 11.9, 'heatindex_f': 53.5, 'dewpoint_c': 10.2, 'dewpoint_f': 50.3, 'vis_km': 1.2, 'vis_miles': 0.0, 'uv': 3.0, 'gust_mph': 15.3, 'gust_kph': 24.7}}\"}, {'url': 'https://www.wunderground.com/hourly/us/ca/san francisco/94120/date/2024-02-06', 'content': 'Current Weather for Popular Cities . San Francisco, CA 55 ° F Rain; Manhattan, NY warning 45 ° F Clear; Schiller Park, IL (60176) 54 ° F Mostly Cloudy; Boston, MA warning 40 ° F Clear; Houston, TX'}]\n",
      "--\n",
      "The| current| weather| in| San| Francisco| is| as| follows|:\n",
      "|-| Temperature|:| |51|.|8|°F|\n",
      "|-| Condition|:| Mist|\n",
      "|-| Wind|:| |24|.|1| km|/h| NN|W|\n",
      "|-| Hum|idity|:| |100|%\n",
      "|-| Pressure|:| |29|.|98| in|\n",
      "|-| Visibility|:| |0|.|0| miles|\n",
      "\n",
      "|For| more| details|,| you| can| visit| [|Weather| API|](|https|://|www|.weather|api|.com|/|).|"
     ]
    }
   ],
   "source": [
    "async for event in agent_executor.astream_events(\n",
    "    {\"messages\": [HumanMessage(content=\"whats the weather in sf?\")]}, version=\"v1\"\n",
    "):\n",
    "    kind = event[\"event\"]\n",
    "    if kind == \"on_chain_start\":\n",
    "        if (\n",
    "            event[\"name\"] == \"Agent\"\n",
    "        ):  # Was assigned when creating the agent with `.with_config({\"run_name\": \"Agent\"})`\n",
    "            print(\n",
    "                f\"Starting agent: {event['name']} with input: {event['data'].get('input')}\"\n",
    "            )\n",
    "    elif kind == \"on_chain_end\":\n",
    "        if (\n",
    "            event[\"name\"] == \"Agent\"\n",
    "        ):  # Was assigned when creating the agent with `.with_config({\"run_name\": \"Agent\"})`\n",
    "            print()\n",
    "            print(\"--\")\n",
    "            print(\n",
    "                f\"Done agent: {event['name']} with output: {event['data'].get('output')['output']}\"\n",
    "            )\n",
    "    if kind == \"on_chat_model_stream\":\n",
    "        content = event[\"data\"][\"chunk\"].content\n",
    "        if content:\n",
    "            # Empty content in the context of OpenAI means\n",
    "            # that the model is asking for a tool to be invoked.\n",
    "            # So we only print non-empty content\n",
    "            print(content, end=\"|\")\n",
    "    elif kind == \"on_tool_start\":\n",
    "        print(\"--\")\n",
    "        print(\n",
    "            f\"Starting tool: {event['name']} with inputs: {event['data'].get('input')}\"\n",
    "        )\n",
    "    elif kind == \"on_tool_end\":\n",
    "        print(f\"Done tool: {event['name']}\")\n",
    "        print(f\"Tool output was: {event['data'].get('output')}\")\n",
    "        print(\"--\")"
   ]
  },
  {
   "cell_type": "code",
   "execution_count": 12,
   "id": "7dd38ed0-f894-4856-bf93-463c509d902f",
   "metadata": {},
   "outputs": [],
   "source": [
    "from langgraph.checkpoint.sqlite import SqliteSaver\n",
    "\n",
    "memory = SqliteSaver.from_conn_string(\":memory:\")"
   ]
  },
  {
   "cell_type": "code",
   "execution_count": 13,
   "id": "fbbc3829-a465-4aa1-8ffc-6a2c8f92811c",
   "metadata": {},
   "outputs": [],
   "source": [
    "agent_executor = create_react_agent(model, tools, checkpointer=memory)\n",
    "\n",
    "config = {\"configurable\": {\"thread_id\": \"abc123\"}}"
   ]
  },
  {
   "cell_type": "code",
   "execution_count": 14,
   "id": "f0b87300-1f39-47d8-9e31-53803f6aabbf",
   "metadata": {},
   "outputs": [
    {
     "name": "stdout",
     "output_type": "stream",
     "text": [
      "{'agent': {'messages': [AIMessage(content='Hello Bob! How can I assist you today?', response_metadata={'token_usage': {'completion_tokens': 11, 'prompt_tokens': 85, 'total_tokens': 96}, 'model_name': 'gpt-3.5-turbo', 'system_fingerprint': None, 'finish_reason': 'stop', 'logprobs': None}, id='run-535156d1-d4c3-45e2-9e56-ce5af505c6e6-0', usage_metadata={'input_tokens': 85, 'output_tokens': 11, 'total_tokens': 96})]}}\n",
      "----\n"
     ]
    }
   ],
   "source": [
    "for chunk in agent_executor.stream(\n",
    "    {\"messages\": [HumanMessage(content=\"hi im bob!\")]}, config\n",
    "):\n",
    "    print(chunk)\n",
    "    print(\"----\")"
   ]
  },
  {
   "cell_type": "code",
   "execution_count": 15,
   "id": "50aa41dc-f22d-486e-b66c-c3d5c8a1fc8f",
   "metadata": {},
   "outputs": [
    {
     "name": "stdout",
     "output_type": "stream",
     "text": [
      "{'agent': {'messages': [AIMessage(content='Your name is Bob! How can I help you, Bob?', response_metadata={'token_usage': {'completion_tokens': 14, 'prompt_tokens': 108, 'total_tokens': 122}, 'model_name': 'gpt-3.5-turbo', 'system_fingerprint': None, 'finish_reason': 'stop', 'logprobs': None}, id='run-608b076b-3ff8-4d95-9946-df1266d9513d-0', usage_metadata={'input_tokens': 108, 'output_tokens': 14, 'total_tokens': 122})]}}\n",
      "----\n"
     ]
    }
   ],
   "source": [
    "for chunk in agent_executor.stream(\n",
    "    {\"messages\": [HumanMessage(content=\"whats my name?\")]}, config\n",
    "):\n",
    "    print(chunk)\n",
    "    print(\"----\")"
   ]
  },
  {
   "cell_type": "code",
   "execution_count": 16,
   "id": "56c5ed87-30fd-4900-a600-8a4afbe28016",
   "metadata": {},
   "outputs": [
    {
     "name": "stdout",
     "output_type": "stream",
     "text": [
      "{'agent': {'messages': [AIMessage(content=\"I don't have access to your personal information, so I wouldn't know your name. How can I assist you today?\", response_metadata={'token_usage': {'completion_tokens': 26, 'prompt_tokens': 86, 'total_tokens': 112}, 'model_name': 'gpt-3.5-turbo', 'system_fingerprint': None, 'finish_reason': 'stop', 'logprobs': None}, id='run-b74772a3-9724-49e5-8589-32681c98e5dd-0', usage_metadata={'input_tokens': 86, 'output_tokens': 26, 'total_tokens': 112})]}}\n",
      "----\n"
     ]
    }
   ],
   "source": [
    "config = {\"configurable\": {\"thread_id\": \"xyz123\"}}\n",
    "for chunk in agent_executor.stream(\n",
    "    {\"messages\": [HumanMessage(content=\"whats my name?\")]}, config\n",
    "):\n",
    "    print(chunk)\n",
    "    print(\"----\")"
   ]
  },
  {
   "cell_type": "code",
   "execution_count": null,
   "id": "54491a0f-a95c-4347-aca3-593be564dcfc",
   "metadata": {},
   "outputs": [],
   "source": []
  }
 ],
 "metadata": {
  "kernelspec": {
   "display_name": "Python 3 (ipykernel)",
   "language": "python",
   "name": "python3"
  },
  "language_info": {
   "codemirror_mode": {
    "name": "ipython",
    "version": 3
   },
   "file_extension": ".py",
   "mimetype": "text/x-python",
   "name": "python",
   "nbconvert_exporter": "python",
   "pygments_lexer": "ipython3",
   "version": "3.11.4"
  }
 },
 "nbformat": 4,
 "nbformat_minor": 5
}
